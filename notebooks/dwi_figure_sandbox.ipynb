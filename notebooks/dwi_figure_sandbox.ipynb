{
    "cells": [
        {
            "cell_type": "code",
            "execution_count": 1,
            "metadata": {},
            "outputs": [],
            "source": [
                "%matplotlib widget"
            ]
        },
        {
            "cell_type": "code",
            "execution_count": 22,
            "metadata": {},
            "outputs": [],
            "source": [
                "import pathlib as pl\n",
                "\n",
                "import matplotlib.pyplot as plt\n",
                "import nibabel as nib\n",
                "import numpy as np\n",
                "from matplotlib.animation import FuncAnimation\n",
                "from matplotlib.gridspec import GridSpec\n",
                "\n",
                "import niclips.image as noimg\n",
                "from niclips.defaults import get_default_coord, get_default_vmin_vmax"
            ]
        },
        {
            "cell_type": "code",
            "execution_count": 2,
            "metadata": {},
            "outputs": [],
            "source": [
                "dwi_fpath = pl.Path(\n",
                "    '/home/jkai/bridges/bio220042p/project/0_sandbox/prime-de/ucdavis/bids/sub-032125/ses-001/dwi/sub-032125_ses-001_acq-AP_run-1_dwi.nii.gz'\n",
                "    # '/home/jkai/bridges/med220004p/shared/data_derived/HCP-Retest/preprocessed/sub-103818/ses-test/dwi/sub-103818_ses-test_dwi.nii.gz'\n",
                "    # '/home/jkai/bridges/bio220042p/shared/data/NKI_monkey/incoming/sub-FIONNA/ses-20170126/dwi/sub-FIONNA_ses-20170126_acq-DSIq5_dwi.nii.gz'\n",
                ")\n",
                "bval_fpath = dwi_fpath.with_suffix('').with_suffix(\".bval\")\n",
                "bvec_fpath = dwi_fpath.with_suffix('').with_suffix(\".bvec\")\n",
                "assert all([dwi_fpath.exists(), bval_fpath.exists(), bvec_fpath.exists()])\n",
                "\n",
                "dwi = nib.nifti1.load(dwi_fpath)"
            ]
        },
        {
            "cell_type": "code",
            "execution_count": 25,
            "metadata": {},
            "outputs": [
                {
                    "ename": "IndexError",
                    "evalue": "index 3 is out of bounds for axis 0 with size 3",
                    "output_type": "error",
                    "traceback": [
                        "\u001b[0;31m---------------------------------------------------------------------------\u001b[0m",
                        "\u001b[0;31mIndexError\u001b[0m                                Traceback (most recent call last)",
                        "Cell \u001b[0;32mIn[25], line 1\u001b[0m\n\u001b[0;32m----> 1\u001b[0m frame \u001b[38;5;241m=\u001b[39m \u001b[43mnoimg\u001b[49m\u001b[38;5;241;43m.\u001b[39;49m\u001b[43mrender_slice\u001b[49m\u001b[43m(\u001b[49m\u001b[43mdwi\u001b[49m\u001b[43m,\u001b[49m\u001b[43m \u001b[49m\u001b[43maxis\u001b[49m\u001b[38;5;241;43m=\u001b[39;49m\u001b[38;5;241;43m3\u001b[39;49m\u001b[43m,\u001b[49m\u001b[43m \u001b[49m\u001b[43mcoord\u001b[49m\u001b[38;5;241;43m=\u001b[39;49m\u001b[43mcoord\u001b[49m\u001b[43m,\u001b[49m\u001b[43m \u001b[49m\u001b[43mvmin\u001b[49m\u001b[38;5;241;43m=\u001b[39;49m\u001b[43mvmin\u001b[49m\u001b[43m,\u001b[49m\u001b[43m \u001b[49m\u001b[43mvmax\u001b[49m\u001b[38;5;241;43m=\u001b[39;49m\u001b[43mvmax\u001b[49m\u001b[43m,\u001b[49m\u001b[43m \u001b[49m\u001b[43mfontsize\u001b[49m\u001b[38;5;241;43m=\u001b[39;49m\u001b[38;5;241;43m18\u001b[39;49m\u001b[43m)\u001b[49m\n",
                        "File \u001b[0;32m~/repository/2_many-pipelines/niftyone/src/niclips/image/_render.py:22\u001b[0m, in \u001b[0;36mrender_slice\u001b[0;34m(img, axis, coord, vmin, vmax, height, cmap, annotate, fontsize)\u001b[0m\n\u001b[1;32m     10\u001b[0m \u001b[38;5;28;01mdef\u001b[39;00m \u001b[38;5;21mrender_slice\u001b[39m(\n\u001b[1;32m     11\u001b[0m     img: nib\u001b[38;5;241m.\u001b[39mNifti1Image,\n\u001b[1;32m     12\u001b[0m     axis: \u001b[38;5;28mint\u001b[39m,\n\u001b[0;32m   (...)\u001b[0m\n\u001b[1;32m     19\u001b[0m     fontsize: \u001b[38;5;28mint\u001b[39m \u001b[38;5;241m=\u001b[39m \u001b[38;5;241m14\u001b[39m,\n\u001b[1;32m     20\u001b[0m ) \u001b[38;5;241m-\u001b[39m\u001b[38;5;241m>\u001b[39m Image\u001b[38;5;241m.\u001b[39mImage:\n\u001b[1;32m     21\u001b[0m \u001b[38;5;250m    \u001b[39m\u001b[38;5;124;03m\"\"\"Render one slice of a volume as a PIL image.\"\"\"\u001b[39;00m\n\u001b[0;32m---> 22\u001b[0m     frame \u001b[38;5;241m=\u001b[39m \u001b[43mslice_volume\u001b[49m\u001b[43m(\u001b[49m\u001b[43mimg\u001b[49m\u001b[43m,\u001b[49m\u001b[43m \u001b[49m\u001b[43mcoord\u001b[49m\u001b[38;5;241;43m=\u001b[39;49m\u001b[43mcoord\u001b[49m\u001b[43m,\u001b[49m\u001b[43m \u001b[49m\u001b[43maxis\u001b[49m\u001b[38;5;241;43m=\u001b[39;49m\u001b[43maxis\u001b[49m\u001b[43m)\u001b[49m\n\u001b[1;32m     23\u001b[0m     frame \u001b[38;5;241m=\u001b[39m reorient(frame)\n\u001b[1;32m     24\u001b[0m     frame \u001b[38;5;241m=\u001b[39m topil(frame, vmin\u001b[38;5;241m=\u001b[39mvmin, vmax\u001b[38;5;241m=\u001b[39mvmax, cmap\u001b[38;5;241m=\u001b[39mcmap)\n",
                        "File \u001b[0;32m~/repository/2_many-pipelines/niftyone/src/niclips/image/_slice.py:24\u001b[0m, in \u001b[0;36mslice_volume\u001b[0;34m(img, coord, axis, idx)\u001b[0m\n\u001b[1;32m     22\u001b[0m \u001b[38;5;28;01mif\u001b[39;00m \u001b[38;5;28misinstance\u001b[39m(img, nib\u001b[38;5;241m.\u001b[39mNifti1Image):\n\u001b[1;32m     23\u001b[0m     coord \u001b[38;5;241m=\u001b[39m coord2ind(img\u001b[38;5;241m.\u001b[39maffine, coord)\n\u001b[0;32m---> 24\u001b[0m slc \u001b[38;5;241m=\u001b[39m slice_array(data, \u001b[38;5;28mint\u001b[39m(\u001b[43mcoord\u001b[49m\u001b[43m[\u001b[49m\u001b[43maxis\u001b[49m\u001b[43m]\u001b[49m), axis\u001b[38;5;241m=\u001b[39maxis)\n\u001b[1;32m     25\u001b[0m \u001b[38;5;28;01mreturn\u001b[39;00m slc\n",
                        "\u001b[0;31mIndexError\u001b[0m: index 3 is out of bounds for axis 0 with size 3"
                    ]
                }
            ],
            "source": [
                "frame = noimg.render_slice(dwi, axis=2, coord=coord, vmin=vmin, vmax=vmax, fontsize=18)"
            ]
        },
        {
            "cell_type": "code",
            "execution_count": 43,
            "metadata": {},
            "outputs": [
                {
                    "ename": "IndexError",
                    "evalue": "index 3 is out of bounds for axis 0 with size 3",
                    "output_type": "error",
                    "traceback": [
                        "\u001b[0;31m---------------------------------------------------------------------------\u001b[0m",
                        "\u001b[0;31mIndexError\u001b[0m                                Traceback (most recent call last)",
                        "Cell \u001b[0;32mIn[43], line 14\u001b[0m\n\u001b[1;32m     12\u001b[0m \u001b[38;5;66;03m# Plot frame over time\u001b[39;00m\n\u001b[1;32m     13\u001b[0m ax1 \u001b[38;5;241m=\u001b[39m fig\u001b[38;5;241m.\u001b[39madd_subplot(gs[\u001b[38;5;241m0\u001b[39m, \u001b[38;5;241m0\u001b[39m])\n\u001b[0;32m---> 14\u001b[0m frame \u001b[38;5;241m=\u001b[39m \u001b[43mnoimg\u001b[49m\u001b[38;5;241;43m.\u001b[39;49m\u001b[43mrender_slice\u001b[49m\u001b[43m(\u001b[49m\n\u001b[1;32m     15\u001b[0m \u001b[43m    \u001b[49m\u001b[43mnoimg\u001b[49m\u001b[38;5;241;43m.\u001b[39;49m\u001b[43mindex_img\u001b[49m\u001b[43m(\u001b[49m\u001b[43mdwi\u001b[49m\u001b[43m,\u001b[49m\u001b[43m \u001b[49m\u001b[38;5;241;43m0\u001b[39;49m\u001b[43m)\u001b[49m\u001b[43m,\u001b[49m\n\u001b[1;32m     16\u001b[0m \u001b[43m    \u001b[49m\u001b[43maxis\u001b[49m\u001b[38;5;241;43m=\u001b[39;49m\u001b[38;5;241;43m3\u001b[39;49m\u001b[43m,\u001b[49m\n\u001b[1;32m     17\u001b[0m \u001b[43m    \u001b[49m\u001b[43mcoord\u001b[49m\u001b[38;5;241;43m=\u001b[39;49m\u001b[43mcoord\u001b[49m\u001b[43m,\u001b[49m\n\u001b[1;32m     18\u001b[0m \u001b[43m    \u001b[49m\u001b[43mvmin\u001b[49m\u001b[38;5;241;43m=\u001b[39;49m\u001b[43mvmin\u001b[49m\u001b[43m,\u001b[49m\n\u001b[1;32m     19\u001b[0m \u001b[43m    \u001b[49m\u001b[43mvmax\u001b[49m\u001b[38;5;241;43m=\u001b[39;49m\u001b[43mvmax\u001b[49m\u001b[43m,\u001b[49m\n\u001b[1;32m     20\u001b[0m \u001b[43m    \u001b[49m\u001b[43mfontsize\u001b[49m\u001b[38;5;241;43m=\u001b[39;49m\u001b[38;5;241;43m18\u001b[39;49m\u001b[43m,\u001b[49m\n\u001b[1;32m     21\u001b[0m \u001b[43m)\u001b[49m\n\u001b[1;32m     22\u001b[0m im \u001b[38;5;241m=\u001b[39m ax1\u001b[38;5;241m.\u001b[39mimshow(frame, cmap\u001b[38;5;241m=\u001b[39m\u001b[38;5;124m\"\u001b[39m\u001b[38;5;124mgray\u001b[39m\u001b[38;5;124m\"\u001b[39m)\n\u001b[1;32m     23\u001b[0m ax1\u001b[38;5;241m.\u001b[39maxis(\u001b[38;5;124m\"\u001b[39m\u001b[38;5;124moff\u001b[39m\u001b[38;5;124m\"\u001b[39m)\n",
                        "File \u001b[0;32m~/repository/2_many-pipelines/niftyone/src/niclips/image/_render.py:22\u001b[0m, in \u001b[0;36mrender_slice\u001b[0;34m(img, axis, coord, vmin, vmax, height, cmap, annotate, fontsize)\u001b[0m\n\u001b[1;32m     10\u001b[0m \u001b[38;5;28;01mdef\u001b[39;00m \u001b[38;5;21mrender_slice\u001b[39m(\n\u001b[1;32m     11\u001b[0m     img: nib\u001b[38;5;241m.\u001b[39mNifti1Image,\n\u001b[1;32m     12\u001b[0m     axis: \u001b[38;5;28mint\u001b[39m,\n\u001b[0;32m   (...)\u001b[0m\n\u001b[1;32m     19\u001b[0m     fontsize: \u001b[38;5;28mint\u001b[39m \u001b[38;5;241m=\u001b[39m \u001b[38;5;241m14\u001b[39m,\n\u001b[1;32m     20\u001b[0m ) \u001b[38;5;241m-\u001b[39m\u001b[38;5;241m>\u001b[39m Image\u001b[38;5;241m.\u001b[39mImage:\n\u001b[1;32m     21\u001b[0m \u001b[38;5;250m    \u001b[39m\u001b[38;5;124;03m\"\"\"Render one slice of a volume as a PIL image.\"\"\"\u001b[39;00m\n\u001b[0;32m---> 22\u001b[0m     frame \u001b[38;5;241m=\u001b[39m \u001b[43mslice_volume\u001b[49m\u001b[43m(\u001b[49m\u001b[43mimg\u001b[49m\u001b[43m,\u001b[49m\u001b[43m \u001b[49m\u001b[43mcoord\u001b[49m\u001b[38;5;241;43m=\u001b[39;49m\u001b[43mcoord\u001b[49m\u001b[43m,\u001b[49m\u001b[43m \u001b[49m\u001b[43maxis\u001b[49m\u001b[38;5;241;43m=\u001b[39;49m\u001b[43maxis\u001b[49m\u001b[43m)\u001b[49m\n\u001b[1;32m     23\u001b[0m     frame \u001b[38;5;241m=\u001b[39m reorient(frame)\n\u001b[1;32m     24\u001b[0m     frame \u001b[38;5;241m=\u001b[39m topil(frame, vmin\u001b[38;5;241m=\u001b[39mvmin, vmax\u001b[38;5;241m=\u001b[39mvmax, cmap\u001b[38;5;241m=\u001b[39mcmap)\n",
                        "File \u001b[0;32m~/repository/2_many-pipelines/niftyone/src/niclips/image/_slice.py:24\u001b[0m, in \u001b[0;36mslice_volume\u001b[0;34m(img, coord, axis, idx)\u001b[0m\n\u001b[1;32m     22\u001b[0m \u001b[38;5;28;01mif\u001b[39;00m \u001b[38;5;28misinstance\u001b[39m(img, nib\u001b[38;5;241m.\u001b[39mNifti1Image):\n\u001b[1;32m     23\u001b[0m     coord \u001b[38;5;241m=\u001b[39m coord2ind(img\u001b[38;5;241m.\u001b[39maffine, coord)\n\u001b[0;32m---> 24\u001b[0m slc \u001b[38;5;241m=\u001b[39m slice_array(data, \u001b[38;5;28mint\u001b[39m(\u001b[43mcoord\u001b[49m\u001b[43m[\u001b[49m\u001b[43maxis\u001b[49m\u001b[43m]\u001b[49m), axis\u001b[38;5;241m=\u001b[39maxis)\n\u001b[1;32m     25\u001b[0m \u001b[38;5;28;01mreturn\u001b[39;00m slc\n",
                        "\u001b[0;31mIndexError\u001b[0m: index 3 is out of bounds for axis 0 with size 3"
                    ]
                },
                {
                    "data": {
                        "image/png": "[encoded data removed]",
                        "text/plain": [
                            "<Figure size 960x720 with 1 Axes>"
                        ]
                    },
                    "metadata": {},
                    "output_type": "display_data"
                }
            ],
            "source": [
                "signal = np.mean(dwi.dataobj, axis=(0, 1, 2))\n",
                "coord = np.asarray(get_default_coord(dwi))\n",
                "vmin, vmax = get_default_vmin_vmax(dwi)\n",
                "\n",
                "# Create plot\n",
                "fig = plt.figure(layout=\"tight\", dpi=150, figsize=(6.4, 4.8))\n",
                "\n",
                "aspect1 = dwi.shape[1] / dwi.shape[0]\n",
                "aspect2 = np.max(signal) / signal.shape[-1]\n",
                "gs = GridSpec(1, 2, figure=fig, width_ratios=[aspect1, aspect2])\n",
                "\n",
                "# Plot frame over time\n",
                "ax1 = fig.add_subplot(gs[0, 0])\n",
                "frame = noimg.render_slice(\n",
                "    noimg.index_img(dwi, 0),\n",
                "    axis=2,\n",
                "    coord=coord,\n",
                "    vmin=vmin,\n",
                "    vmax=vmax,\n",
                "    fontsize=18,\n",
                ")\n",
                "frame = noimg.annotate(\n",
                "    frame, text=f\"T=0\", loc=\"upper right\", size=fontsize\n",
                ")\n",
                "im = ax1.imshow(frame, cmap=\"gray\")\n",
                "ax1.axis(\"off\")\n",
                "\n",
                "# Plot signal over time\n",
                "ax2 = fig.add_subplot(gs[0, 1:])\n",
                "ax2.plot(range(0, signal.shape[-1], 1), signal)\n",
                "dot, = ax2.plot([], [], 'ro')\n",
                "ax2.set_xlim(0, signal.shape[-1]+1)\n",
                "ax2.set_ylim(0, np.max(signal) + 1)\n",
                "# aspect = w / h / 2\n",
                "# ax2.set_aspect(aspect)\n",
                "ax2.set_xlabel(\"Volume\")\n",
                "ax2.set_ylabel(\"Signal\")\n",
                "\n",
                "def _update(t: int):\n",
                "    dot.set_data([t], [signal[t]])\n",
                "    frame = noimg.render_slice(\n",
                "        noimg.index_img(dwi, t),\n",
                "        axis=2,\n",
                "        coord=coord,\n",
                "        vmin=vmin,\n",
                "        vmax=vmax,\n",
                "        fontsize=18,\n",
                "    )\n",
                "    im.set_data(frame)\n",
                "\n",
                "fig.suptitle('Average signal over time')\n",
                "\n",
                "ani = FuncAnimation(fig, _update, frames=signal.shape[-1], interval=30)\n",
                "\n",
                "ani.save('/tmp/test.mp4', writer=\"ffmpeg\", fps=15, dpi=150)"
            ]
        },
        {
            "cell_type": "code",
            "execution_count": 37,
            "metadata": {},
            "outputs": [],
            "source": [
                "plt.close(\"all\")"
            ]
        },
        {
            "cell_type": "code",
            "execution_count": null,
            "metadata": {},
            "outputs": [],
            "source": []
        }
    ],
    "metadata": {
        "kernelspec": {
            "display_name": "Python 3 (ipykernel)",
            "language": "python",
            "name": "python3"
        },
        "language_info": {
            "codemirror_mode": {
                "name": "ipython",
                "version": 3
            },
            "file_extension": ".py",
            "mimetype": "text/x-python",
            "name": "python",
            "nbconvert_exporter": "python",
            "pygments_lexer": "ipython3",
            "version": "3.11.8"
        }
    },
    "nbformat": 4,
    "nbformat_minor": 4
}
